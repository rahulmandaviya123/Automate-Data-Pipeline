{
 "cells": [
  {
   "cell_type": "code",
   "execution_count": 20,
   "id": "cbd87a74-77dc-4293-a787-0e8214e1de69",
   "metadata": {},
   "outputs": [],
   "source": [
    "import os\n",
    "import shutil\n",
    "import glob\n",
    "import csv\n",
    "from datetime import datetime, timedelta"
   ]
  },
  {
   "cell_type": "code",
   "execution_count": 33,
   "id": "445a3a6d-4136-4a61-bf7c-a14f477d2b8a",
   "metadata": {},
   "outputs": [],
   "source": [
    "incoming_folder = \"Incoming\"\n",
    "archive_folder = \"Archive\"\n",
    "processed_folder = \"Processed\""
   ]
  },
  {
   "cell_type": "code",
   "execution_count": 34,
   "id": "5d7d7b1b-554e-4e7b-9a49-291d84394d2b",
   "metadata": {},
   "outputs": [],
   "source": [
    "csv_file = glob.glob(os.path.join(incoming_folder, \"*.csv\"))"
   ]
  },
  {
   "cell_type": "code",
   "execution_count": 35,
   "id": "c37ea8e3-820b-49ba-bb75-35b3cd9d3098",
   "metadata": {},
   "outputs": [],
   "source": [
    "csv_files = sorted(csv_file)"
   ]
  },
  {
   "cell_type": "code",
   "execution_count": 36,
   "id": "c73d63e6-336a-425b-9c17-1a4e9fcf0e74",
   "metadata": {},
   "outputs": [
    {
     "name": "stdout",
     "output_type": "stream",
     "text": [
      "Processing File : sale_1.csv ---> Renamed : 20250821_173120_sale_1.csv\n",
      "Number of row (Including header) 3\n",
      "Processing File : sale_2.csv ---> Renamed : 20250821_173120_sale_2.csv\n",
      "Number of row (Including header) 0\n"
     ]
    }
   ],
   "source": [
    "for path_file in csv_files:\n",
    "    path_name = os.path.basename(path_file)\n",
    "    date_str = datetime.now().strftime(\"%Y%m%d_%H%M%S\")\n",
    "    new_file_name = f\"{date_str}_{path_name}\"\n",
    "    print(f\"Processing File : {path_name} ---> Renamed : {new_file_name}\")\n",
    "    with open (path_file,'r') as f:\n",
    "        lines = f.readlines()\n",
    "        print(f\"Number of row (Including header) {len(lines)}\")\n",
    "\n",
    "    shutil.move(path_file,os.path.join(processed_folder,new_file_name))"
   ]
  },
  {
   "cell_type": "code",
   "execution_count": 37,
   "id": "5ef3bf76-130c-4415-8e6e-83020e0e276d",
   "metadata": {},
   "outputs": [
    {
     "name": "stdout",
     "output_type": "stream",
     "text": [
      "20250821_173120_sale_1.csv --->is not longer than a day\n",
      "20250821_173120_sale_2.csv --->is not longer than a day\n"
     ]
    }
   ],
   "source": [
    "cutoff_time = datetime.now() - timedelta(days=1)\n",
    "processed_files = glob.glob(os.path.join(processed_folder, \"*.csv\"))\n",
    "for path_file in processed_files:\n",
    "    file_mtime = datetime.fromtimestamp(os.path.getmtime(path_file))\n",
    "    if file_mtime < cutoff_time:  # Only if older than 1 day\n",
    "        print(f\"Archiving file: {os.path.basename(path_file)}\")\n",
    "        print(\"Enhanced data pipeline automation complete ✅\")\n",
    "        shutil.move(path_file,os.path.join(archive_folder,os.path.basename(path_file)))\n",
    "    else:\n",
    "        print(f\"{os.path.basename(path_file)} --->is not longer than a day\")\n"
   ]
  },
  {
   "cell_type": "code",
   "execution_count": null,
   "id": "97f9b1ff-c9de-4264-9464-dfc42ddf598e",
   "metadata": {},
   "outputs": [],
   "source": []
  }
 ],
 "metadata": {
  "kernelspec": {
   "display_name": "Python 3 (ipykernel)",
   "language": "python",
   "name": "python3"
  },
  "language_info": {
   "codemirror_mode": {
    "name": "ipython",
    "version": 3
   },
   "file_extension": ".py",
   "mimetype": "text/x-python",
   "name": "python",
   "nbconvert_exporter": "python",
   "pygments_lexer": "ipython3",
   "version": "3.12.7"
  }
 },
 "nbformat": 4,
 "nbformat_minor": 5
}
